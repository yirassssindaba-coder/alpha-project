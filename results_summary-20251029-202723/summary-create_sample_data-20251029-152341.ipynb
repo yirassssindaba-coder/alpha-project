﻿{
    "nbformat_minor":  5,
    "cells":  [
                  {
                      "source":  [
                                     "## Summary for create_sample_data",
                                     "",
                                     "Generated: 10/29/2025 15:23:41"
                                 ],
                      "cell_type":  "markdown",
                      "metadata":  {

                                   }
                  },
                  {
                      "outputs":  [

                                  ],
                      "source":  [
                                     "import pandas as pd",
                                     "df = pd.read_csv(r\u0027./summary-create_sample_data-20251029-152341.csv\u0027)",
                                     "print(df.head().to_string())"
                                 ],
                      "cell_type":  "code",
                      "execution_count":  null,
                      "metadata":  {

                                   }
                  }
              ],
    "nbformat":  4,
    "metadata":  {
                     "kernelspec":  {
                                        "name":  "python3",
                                        "display_name":  "Python 3"
                                    },
                     "language_info":  {
                                           "name":  "python"
                                       }
                 }
}
