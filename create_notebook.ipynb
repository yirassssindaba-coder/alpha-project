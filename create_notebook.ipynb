{
 "cells": [
  {
   "cell_type": "code",
   "execution_count": 2,
   "id": "39ecd38d-9dee-4b71-8e4b-f975b59cff82",
   "metadata": {},
   "outputs": [
    {
     "name": "stdout",
     "output_type": "stream",
     "text": [
      "Notebook written: social-media-sentiment-analysis/social-media-sentiment-analysis.ipynb\n"
     ]
    }
   ],
   "source": [
    "import nbformat as nbf\n",
    "nb = nbf.v4.new_notebook()\n",
    "code = \"\"\"import pandas as pd\n",
    "import nltk\n",
    "from nltk.sentiment.vader import SentimentIntensityAnalyzer\n",
    "import joblib\n",
    "import os\n",
    "\n",
    "print('pandas', pd.__version__)\n",
    "nltk.download('vader_lexicon', quiet=True)\n",
    "sid = SentimentIntensityAnalyzer()\n",
    "print('VADER example:', sid.polarity_scores('I love this product'))\n",
    "\n",
    "# If a trained pipeline exists, load and run a few examples\n",
    "model_path = 'social-media-sentiment-analysis/models/model_pipeline.joblib'\n",
    "if os.path.exists(model_path):\n",
    "    print('\\\\nLoaded model pipeline from', model_path)\n",
    "    pipe = joblib.load(model_path)\n",
    "    samples = [\n",
    "        'I absolutely love this! Highly recommend.',\n",
    "        'This is ok, nothing special.',\n",
    "        'Terrible experience, will never buy again.'\n",
    "    ]\n",
    "    preds = pipe.predict(samples)\n",
    "    for s,p in zip(samples, preds):\n",
    "        print(f'[{p}]', s)\n",
    "else:\n",
    "    print('\\\\nNo trained model at', model_path, '— run training pipeline to add predictions.')\n",
    "\"\"\"\n",
    "nb['cells'] = [nbf.v4.new_code_cell(code)]\n",
    "out_path = \"social-media-sentiment-analysis/social-media-sentiment-analysis.ipynb\"\n",
    "import os\n",
    "os.makedirs(os.path.dirname(out_path), exist_ok=True)\n",
    "with open(out_path, \"w\", encoding=\"utf-8\") as f:\n",
    "    nbf.write(nb, f)\n",
    "print(\"Notebook written:\", out_path)"
   ]
  },
  {
   "cell_type": "code",
   "execution_count": null,
   "id": "336bdb0a-5b04-4d6f-88bf-a3001b59d138",
   "metadata": {},
   "outputs": [],
   "source": []
  }
 ],
 "metadata": {
  "kernelspec": {
   "display_name": "Python (social-media-sentiment)",
   "language": "python",
   "name": "social_media_sentiment"
  },
  "language_info": {
   "codemirror_mode": {
    "name": "ipython",
    "version": 3
   },
   "file_extension": ".py",
   "mimetype": "text/x-python",
   "name": "python",
   "nbconvert_exporter": "python",
   "pygments_lexer": "ipython3",
   "version": "3.14.0"
  }
 },
 "nbformat": 4,
 "nbformat_minor": 5
}
