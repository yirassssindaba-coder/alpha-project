{
 "cells": [
  {
   "cell_type": "code",
   "execution_count": 1,
   "id": "e5c4cf87-d8bb-464f-8066-523a97b822a2",
   "metadata": {},
   "outputs": [
    {
     "name": "stderr",
     "output_type": "stream",
     "text": [
      "\u001b[1;34musage: \u001b[0m\u001b[1;35mipykernel_launcher.py\u001b[0m [\u001b[32m-h\u001b[0m] \u001b[36m--input \u001b[33mINPUT\u001b[0m [\u001b[36m--output \u001b[33mOUTPUT\u001b[0m]\n",
      "ipykernel_launcher.py: error: the following arguments are required: --input\n"
     ]
    },
    {
     "ename": "SystemExit",
     "evalue": "2",
     "output_type": "error",
     "traceback": [
      "An exception has occurred, use %tb to see the full traceback.\n",
      "\u001b[31mSystemExit\u001b[39m\u001b[31m:\u001b[39m 2\n"
     ]
    },
    {
     "name": "stderr",
     "output_type": "stream",
     "text": [
      "C:\\Users\\ASUS\\Desktop\\python-project-remote\\venv\\Lib\\site-packages\\IPython\\core\\interactiveshell.py:3707: UserWarning: To exit: use 'exit', 'quit', or Ctrl-D.\n",
      "  warn(\"To exit: use 'exit', 'quit', or Ctrl-D.\", stacklevel=1)\n"
     ]
    }
   ],
   "source": [
    "\"\"\"\n",
    "preprocess.py\n",
    "- Input CSV must have column 'text'. If 'label' exists, it is preserved.\n",
    "- Outputs cleaned CSV to social-media-sentiment-analysis/data/processed/tweets_clean.csv (default).\n",
    "\"\"\"\n",
    "import argparse\n",
    "import os\n",
    "import re\n",
    "import pandas as pd\n",
    "\n",
    "def clean_text(s: str) -> str:\n",
    "    if not isinstance(s, str):\n",
    "        return \"\"\n",
    "    s = s.lower()\n",
    "    s = re.sub(r\"http\\S+\", \"\", s)\n",
    "    s = re.sub(r\"@\\w+\", \"\", s)\n",
    "    s = re.sub(r\"#\", \"\", s)\n",
    "    s = re.sub(r\"[^a-z0-9\\s']\", \" \", s)\n",
    "    s = re.sub(r\"\\s+\", \" \", s).strip()\n",
    "    return s\n",
    "\n",
    "def main():\n",
    "    parser = argparse.ArgumentParser()\n",
    "    parser.add_argument(\"--input\", required=True, help=\"raw csv path with 'text' column\")\n",
    "    parser.add_argument(\"--output\", default=\"social-media-sentiment-analysis/data/processed/tweets_clean.csv\")\n",
    "    args = parser.parse_args()\n",
    "\n",
    "    df = pd.read_csv(args.input, encoding=\"utf-8\")\n",
    "    if \"text\" not in df.columns:\n",
    "        raise SystemExit(\"Input CSV must have a 'text' column\")\n",
    "    df[\"text_clean\"] = df[\"text\"].astype(str).apply(clean_text)\n",
    "    os.makedirs(os.path.dirname(args.output), exist_ok=True)\n",
    "    df.to_csv(args.output, index=False, encoding=\"utf-8\")\n",
    "    print(\"Wrote cleaned data to\", args.output)\n",
    "\n",
    "if __name__ == \"__main__\":\n",
    "    main()"
   ]
  },
  {
   "cell_type": "code",
   "execution_count": null,
   "id": "ac664036-26a4-4aea-96ef-25fed1a374cb",
   "metadata": {},
   "outputs": [],
   "source": []
  }
 ],
 "metadata": {
  "kernelspec": {
   "display_name": "Python (social-media-sentiment)",
   "language": "python",
   "name": "social_media_sentiment"
  },
  "language_info": {
   "codemirror_mode": {
    "name": "ipython",
    "version": 3
   },
   "file_extension": ".py",
   "mimetype": "text/x-python",
   "name": "python",
   "nbconvert_exporter": "python",
   "pygments_lexer": "ipython3",
   "version": "3.14.0"
  }
 },
 "nbformat": 4,
 "nbformat_minor": 5
}
