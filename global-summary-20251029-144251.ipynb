﻿{
    "nbformat_minor":  5,
    "cells":  [
                  {
                      "source":  [
                                     "## Global Results Summary",
                                     "",
                                     "Generated: 10/29/2025 14:42:51"
                                 ],
                      "cell_type":  "markdown",
                      "metadata":  {

                                   }
                  },
                  {
                      "outputs":  [

                                  ],
                      "source":  [
                                     "import pandas as pd",
                                     "df = pd.read_csv(r\u0027./global-summary-20251029-144251.csv\u0027)",
                                     "print(df.head().to_string())"
                                 ],
                      "cell_type":  "code",
                      "execution_count":  null,
                      "metadata":  {

                                   }
                  }
              ],
    "nbformat":  4,
    "metadata":  {
                     "kernelspec":  {
                                        "name":  "python3",
                                        "display_name":  "Python 3"
                                    },
                     "language_info":  {
                                           "name":  "python"
                                       }
                 }
}
