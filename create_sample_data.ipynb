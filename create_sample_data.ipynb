{
 "cells": [
  {
   "cell_type": "code",
   "execution_count": 1,
   "id": "afe2efbf-3be6-4b66-9b40-3aa9a6ae9032",
   "metadata": {},
   "outputs": [
    {
     "name": "stdout",
     "output_type": "stream",
     "text": [
      "Wrote sample CSV to: social-media-sentiment-analysis\\data\\raw\\tweets_scraped.csv (600 rows)\n"
     ]
    }
   ],
   "source": [
    "# create_sample_data.py\n",
    "# Generates a small labeled CSV dataset for quick testing:\n",
    "# Result: social-media-sentiment-analysis/data/raw/tweets_scraped.csv\n",
    "#\n",
    "# Usage (from repo root):\n",
    "#   . .venv\\Scripts\\Activate.ps1   # activate venv (PowerShell)\n",
    "#   python .\\social-media-sentiment-analysis\\create_sample_data.py\n",
    "\n",
    "import csv\n",
    "from pathlib import Path\n",
    "\n",
    "OUT = Path(\"social-media-sentiment-analysis/data/raw/tweets_scraped.csv\")\n",
    "OUT.parent.mkdir(parents=True, exist_ok=True)\n",
    "\n",
    "# Clean, human-readable sample sentences by label\n",
    "positive = [\n",
    "    \"I love this product\",\n",
    "    \"Absolutely fantastic, highly recommend\",\n",
    "    \"Works great and arrived quickly\",\n",
    "    \"Exceeded my expectations\",\n",
    "    \"Very satisfied with the purchase\",\n",
    "    \"Excellent quality\",\n",
    "    \"Five stars\",\n",
    "    \"Would buy again\",\n",
    "    \"Great value for money\",\n",
    "    \"Superb craftsmanship\",\n",
    "]\n",
    "\n",
    "neutral = [\n",
    "    \"It's okay, not great\",\n",
    "    \"Average product\",\n",
    "    \"Neither good nor bad\",\n",
    "    \"Works as expected\",\n",
    "    \"Not much to say\",\n",
    "    \"Decent for the price\",\n",
    "    \"Neutral feelings about this\",\n",
    "    \"Fairly ordinary item\",\n",
    "    \"Meh, it's fine\",\n",
    "    \"Nothing special\",\n",
    "]\n",
    "\n",
    "negative = [\n",
    "    \"Terrible experience, do not buy\",\n",
    "    \"Broke after first use\",\n",
    "    \"Very disappointed\",\n",
    "    \"Poor quality and bad service\",\n",
    "    \"Not worth the money\",\n",
    "    \"Would not recommend\",\n",
    "    \"Awful product\",\n",
    "    \"Stopped working quickly\",\n",
    "    \"Bad customer support\",\n",
    "    \"Regret this purchase\",\n",
    "]\n",
    "\n",
    "# Build rows by repeating lists to reach ~200 rows (or adjust as needed)\n",
    "rows = []\n",
    "for i in range(20):  # 10 * 20 = 200 rows\n",
    "    for s in positive:\n",
    "        rows.append((s, \"positive\"))\n",
    "    for s in neutral:\n",
    "        rows.append((s, \"neutral\"))\n",
    "    for s in negative:\n",
    "        rows.append((s, \"negative\"))\n",
    "\n",
    "# Optional: shuffle to mix labels (can uncomment if you want randomness)\n",
    "# import random\n",
    "# random.shuffle(rows)\n",
    "\n",
    "with OUT.open(\"w\", encoding=\"utf-8\", newline=\"\") as f:\n",
    "    writer = csv.writer(f)\n",
    "    writer.writerow([\"text\", \"label\"])\n",
    "    writer.writerows(rows)\n",
    "\n",
    "print(f\"Wrote sample CSV to: {OUT} ({len(rows)} rows)\")"
   ]
  },
  {
   "cell_type": "code",
   "execution_count": null,
   "id": "003bfde9-757a-497b-8285-f7d8584e152d",
   "metadata": {},
   "outputs": [],
   "source": []
  }
 ],
 "metadata": {
  "kernelspec": {
   "display_name": "Python (social-media-sentiment)",
   "language": "python",
   "name": "social_media_sentiment"
  },
  "language_info": {
   "codemirror_mode": {
    "name": "ipython",
    "version": 3
   },
   "file_extension": ".py",
   "mimetype": "text/x-python",
   "name": "python",
   "nbconvert_exporter": "python",
   "pygments_lexer": "ipython3",
   "version": "3.14.0"
  }
 },
 "nbformat": 4,
 "nbformat_minor": 5
}
